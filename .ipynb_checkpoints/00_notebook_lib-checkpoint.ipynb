{
 "cells": [
  {
   "cell_type": "markdown",
   "metadata": {},
   "source": [
    "# Atcoder Python Library"
   ]
  },
  {
   "cell_type": "markdown",
   "metadata": {},
   "source": [
    "<hr>\n",
    "\n",
    "## Basic Prime Problems"
   ]
  },
  {
   "cell_type": "markdown",
   "metadata": {},
   "source": [
    "### Prime Check\n",
    "\n",
    "Find whether a number is prime"
   ]
  },
  {
   "cell_type": "code",
   "execution_count": 1,
   "metadata": {},
   "outputs": [
    {
     "name": "stdout",
     "output_type": "stream",
     "text": [
      "951 µs ± 15.1 µs per loop (mean ± std. dev. of 7 runs, 1000 loops each)\n"
     ]
    }
   ],
   "source": [
    "def is_prime(n):\n",
    "    # Corner cases \n",
    "    if (n <= 1) : \n",
    "        return False\n",
    "    if (n <= 3) : \n",
    "        return True\n",
    "  \n",
    "    # This is checked so that we can skip  \n",
    "    # middle five numbers in below loop \n",
    "    if (n % 2 == 0 or n % 3 == 0) : \n",
    "        return False\n",
    "  \n",
    "    i = 5\n",
    "    while(i * i <= n) : \n",
    "        if (n % i == 0 or n % (i + 2) == 0) : \n",
    "            return False\n",
    "        i = i + 6\n",
    "  \n",
    "    return True\n",
    "\n",
    "%timeit is_prime(10**9+7)"
   ]
  },
  {
   "cell_type": "markdown",
   "metadata": {},
   "source": [
    "### Sieve of Eratosthenes\n",
    "\n",
    "Gives all prime number leq than n."
   ]
  },
  {
   "cell_type": "code",
   "execution_count": 2,
   "metadata": {},
   "outputs": [
    {
     "name": "stdout",
     "output_type": "stream",
     "text": [
      "227 ms ± 24.5 ms per loop (mean ± std. dev. of 7 runs, 1 loop each)\n"
     ]
    }
   ],
   "source": [
    "def sieve_of_eratosthenes(n):\n",
    "    prime = [True for i in range(n+1)]\n",
    "    p = 2\n",
    "    while p**2 <= n:\n",
    "        if prime[p] == True:\n",
    "            \n",
    "            for i in range(p**2, n+1, p):\n",
    "                prime[i] = False\n",
    "        p += 1\n",
    "        \n",
    "    return [p for p in range(2, n) if prime[p]]\n",
    "\n",
    "%timeit sieve_of_eratosthenes(10**6)"
   ]
  },
  {
   "cell_type": "markdown",
   "metadata": {},
   "source": [
    "### Legendre’s formula\n",
    "\n",
    "Given an integer $n$ and a prime number $p$, find the largest $x$ such that $p^x$ divides $n!$"
   ]
  },
  {
   "cell_type": "code",
   "execution_count": 3,
   "metadata": {},
   "outputs": [
    {
     "name": "stdout",
     "output_type": "stream",
     "text": [
      "1.34 µs ± 62.6 ns per loop (mean ± std. dev. of 7 runs, 1000000 loops each)\n"
     ]
    }
   ],
   "source": [
    "def largest_power(n, p): \n",
    "    x = 0\n",
    "    while n: \n",
    "        n = n // p \n",
    "        x += n \n",
    "    return x \n",
    "\n",
    "%timeit largest_power(10**18, 27)"
   ]
  },
  {
   "cell_type": "markdown",
   "metadata": {},
   "source": [
    "<hr>\n",
    "\n",
    "## Memoization"
   ]
  },
  {
   "cell_type": "markdown",
   "metadata": {},
   "source": [
    "### Factorial\n",
    "\n",
    "Calculates all the factorials up to n, $O(n)$.\n",
    "\n",
    "Max n is $10^4$. If theres a large prime look at the `factorial_mod()` solution."
   ]
  },
  {
   "cell_type": "code",
   "execution_count": 1,
   "metadata": {},
   "outputs": [],
   "source": [
    "def init_factorial(n):\n",
    "    facs = [1]\n",
    "    for i in range(1, n+1):\n",
    "        facs.append(facs[i-1] * i)\n",
    "    return facs\n",
    "\n",
    "facs = init_factorial(10**4)"
   ]
  },
  {
   "cell_type": "markdown",
   "metadata": {},
   "source": [
    "<hr>\n",
    "\n",
    "## Modulo 10**9 + 7 Problems"
   ]
  },
  {
   "cell_type": "markdown",
   "metadata": {},
   "source": [
    "### Binomial Modulo\n",
    "\n",
    "Fast way to solve $nCr \\ \\ \\% \\ \\ MOD $ when MOD is prime."
   ]
  },
  {
   "cell_type": "code",
   "execution_count": 4,
   "metadata": {},
   "outputs": [
    {
     "name": "stdout",
     "output_type": "stream",
     "text": [
      "257 ms ± 6.51 ms per loop (mean ± std. dev. of 7 runs, 1 loop each)\n"
     ]
    }
   ],
   "source": [
    "def binomial_mod(n, k, p):\n",
    "    numerator = 1\n",
    "    for i in range(k):\n",
    "        numerator = (numerator * (n-i)) % p\n",
    "\n",
    "    denominator = 1\n",
    "    for i in range(1, k+1):\n",
    "        denominator = (denominator * i) % p\n",
    "\n",
    "    return (numerator * pow(denominator, p-2, p)) % p\n",
    "\n",
    "MOD = 10**9+7\n",
    "%timeit binomial_mod(10**9, 10**6, MOD)"
   ]
  },
  {
   "cell_type": "markdown",
   "metadata": {},
   "source": [
    "### Factorial Modulo\n",
    "\n",
    "Fast way to solve $n!\\ \\ \\% \\ \\ MOD$ when MOD is prime"
   ]
  },
  {
   "cell_type": "code",
   "execution_count": 5,
   "metadata": {},
   "outputs": [
    {
     "name": "stdout",
     "output_type": "stream",
     "text": [
      "130 ms ± 7.38 ms per loop (mean ± std. dev. of 7 runs, 10 loops each)\n"
     ]
    }
   ],
   "source": [
    "def factorial_mod(n, p) : \n",
    "    ans = 1\n",
    "    for i in range(1, n+1):\n",
    "        ans = ans * i % p\n",
    "    return ans\n",
    "\n",
    "MOD = 10**9+7\n",
    "%timeit factorial_mod(10**6, MOD)"
   ]
  },
  {
   "cell_type": "code",
   "execution_count": 4,
   "metadata": {},
   "outputs": [],
   "source": [
    "import numpy\n",
    "from scipy.sparse import csr_matrix\n",
    "from scipy.sparse.csgraph import floyd_warshall\n",
    "\n",
    "graph = csr_matrix(\n",
    "    numpy.ones((50,50))\n",
    ")\n",
    "dist_matrix, predecessors = floyd_warshall(csgraph=graph, directed=False, return_predecessors=True)\n",
    "predecessors"
   ]
  },
  {
   "cell_type": "code",
   "execution_count": 6,
   "metadata": {},
   "outputs": [
    {
     "name": "stdout",
     "output_type": "stream",
     "text": [
      "  (0, 0)\t1.0\n",
      "  (0, 1)\t1.0\n",
      "  (0, 2)\t1.0\n",
      "  (0, 3)\t1.0\n",
      "  (0, 4)\t1.0\n",
      "  (0, 5)\t1.0\n",
      "  (0, 6)\t1.0\n",
      "  (0, 7)\t1.0\n",
      "  (0, 8)\t1.0\n",
      "  (0, 9)\t1.0\n",
      "  (0, 10)\t1.0\n",
      "  (0, 11)\t1.0\n",
      "  (0, 12)\t1.0\n",
      "  (0, 13)\t1.0\n",
      "  (0, 14)\t1.0\n",
      "  (0, 15)\t1.0\n",
      "  (0, 16)\t1.0\n",
      "  (0, 17)\t1.0\n",
      "  (0, 18)\t1.0\n",
      "  (0, 19)\t1.0\n",
      "  (0, 20)\t1.0\n",
      "  (0, 21)\t1.0\n",
      "  (0, 22)\t1.0\n",
      "  (0, 23)\t1.0\n",
      "  (0, 24)\t1.0\n",
      "  :\t:\n",
      "  (49, 25)\t1.0\n",
      "  (49, 26)\t1.0\n",
      "  (49, 27)\t1.0\n",
      "  (49, 28)\t1.0\n",
      "  (49, 29)\t1.0\n",
      "  (49, 30)\t1.0\n",
      "  (49, 31)\t1.0\n",
      "  (49, 32)\t1.0\n",
      "  (49, 33)\t1.0\n",
      "  (49, 34)\t1.0\n",
      "  (49, 35)\t1.0\n",
      "  (49, 36)\t1.0\n",
      "  (49, 37)\t1.0\n",
      "  (49, 38)\t1.0\n",
      "  (49, 39)\t1.0\n",
      "  (49, 40)\t1.0\n",
      "  (49, 41)\t1.0\n",
      "  (49, 42)\t1.0\n",
      "  (49, 43)\t1.0\n",
      "  (49, 44)\t1.0\n",
      "  (49, 45)\t1.0\n",
      "  (49, 46)\t1.0\n",
      "  (49, 47)\t1.0\n",
      "  (49, 48)\t1.0\n",
      "  (49, 49)\t1.0\n"
     ]
    }
   ],
   "source": [
    "print(cmat)"
   ]
  },
  {
   "cell_type": "code",
   "execution_count": null,
   "metadata": {},
   "outputs": [],
   "source": []
  }
 ],
 "metadata": {
  "kernelspec": {
   "display_name": "Python 3",
   "language": "python",
   "name": "python3"
  },
  "language_info": {
   "codemirror_mode": {
    "name": "ipython",
    "version": 3
   },
   "file_extension": ".py",
   "mimetype": "text/x-python",
   "name": "python",
   "nbconvert_exporter": "python",
   "pygments_lexer": "ipython3",
   "version": "3.7.3"
  }
 },
 "nbformat": 4,
 "nbformat_minor": 2
}
