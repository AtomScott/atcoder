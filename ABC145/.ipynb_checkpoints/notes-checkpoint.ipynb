{
 "cells": [
  {
   "cell_type": "markdown",
   "metadata": {},
   "source": [
    "# D\n",
    "\n",
    "## Compute nCr % p"
   ]
  },
  {
   "cell_type": "code",
   "execution_count": 53,
   "metadata": {},
   "outputs": [],
   "source": [
    "from math import factorial\n",
    "from scipy.special import comb\n",
    "\n",
    "n = 199\n",
    "r = 100\n",
    "p = 1009\n",
    "\n",
    "def check(ans):\n",
    "    assert ans == 820, \"Wrong Answer\""
   ]
  },
  {
   "cell_type": "markdown",
   "metadata": {},
   "source": [
    "### Generic python methods"
   ]
  },
  {
   "cell_type": "code",
   "execution_count": 81,
   "metadata": {
    "scrolled": true
   },
   "outputs": [
    {
     "name": "stdout",
     "output_type": "stream",
     "text": [
      "27.2 µs ± 941 ns per loop (mean ± std. dev. of 7 runs, 10000 loops each)\n"
     ]
    }
   ],
   "source": [
    "%%timeit\n",
    "\n",
    "n_fact = 1\n",
    "for i in range(1, n+1):\n",
    "    n_fact *= i\n",
    "    \n",
    "r_fact = 1\n",
    "for i in range(1, r+1):\n",
    "    r_fact *= i\n",
    "\n",
    "nsubr_fact = 1\n",
    "for i in range(1, n-r+1):\n",
    "    nsubr_fact *= i\n",
    "    \n",
    "ans = n_fact//r_fact//nsubr_fact%p\n",
    "check(ans)"
   ]
  },
  {
   "cell_type": "code",
   "execution_count": 82,
   "metadata": {},
   "outputs": [
    {
     "name": "stdout",
     "output_type": "stream",
     "text": [
      "5.64 µs ± 86.8 ns per loop (mean ± std. dev. of 7 runs, 100000 loops each)\n"
     ]
    }
   ],
   "source": [
    "%%timeit\n",
    "\n",
    "ans = factorial(n)//factorial(r)//factorial(n-r)%p\n",
    "check(ans)"
   ]
  },
  {
   "cell_type": "code",
   "execution_count": 83,
   "metadata": {},
   "outputs": [
    {
     "name": "stdout",
     "output_type": "stream",
     "text": [
      "10.3 µs ± 218 ns per loop (mean ± std. dev. of 7 runs, 100000 loops each)\n"
     ]
    }
   ],
   "source": [
    "%%timeit\n",
    "\n",
    "ans = comb(n, r, exact=True)%p\n",
    "check(ans)"
   ]
  },
  {
   "cell_type": "markdown",
   "metadata": {},
   "source": [
    "However as the number we take the factorial of grows larger, a lot of memory and time is necessary."
   ]
  },
  {
   "cell_type": "code",
   "execution_count": 114,
   "metadata": {},
   "outputs": [
    {
     "name": "stdout",
     "output_type": "stream",
     "text": [
      "5.34 s ± 56.8 ms per loop (mean ± std. dev. of 7 runs, 1 loop each)\n"
     ]
    }
   ],
   "source": [
    "%timeit factorial(n*1000)//factorial(r*1000)//factorial(n*1000-r*1000)%(10**9+7)"
   ]
  },
  {
   "cell_type": "code",
   "execution_count": 112,
   "metadata": {
    "scrolled": true
   },
   "outputs": [
    {
     "data": {
      "text/plain": [
       "1309545"
      ]
     },
     "execution_count": 112,
     "metadata": {},
     "output_type": "execute_result"
    }
   ],
   "source": [
    "factorial(200000) % 1362657"
   ]
  },
  {
   "cell_type": "markdown",
   "metadata": {},
   "source": [
    "## Method 1 Pascals Triangle "
   ]
  },
  {
   "cell_type": "code",
   "execution_count": 255,
   "metadata": {},
   "outputs": [
    {
     "name": "stdout",
     "output_type": "stream",
     "text": [
      "6 6\n",
      "10\n"
     ]
    },
    {
     "data": {
      "text/plain": [
       "array([[0, 0, 0, 0, 0, 0],\n",
       "       [1, 0, 0, 0, 0, 0],\n",
       "       [1, 1, 0, 0, 0, 0],\n",
       "       [1, 2, 1, 0, 0, 0],\n",
       "       [1, 3, 3, 1, 0, 0],\n",
       "       [1, 4, 6, 4, 1, 0]], dtype=int32)"
      ]
     },
     "execution_count": 255,
     "metadata": {},
     "output_type": "execute_result"
    }
   ],
   "source": [
    "a = 5\n",
    "b = 2\n",
    "m = comb_m1(a, b, 1) \n",
    "print(factorial(a)//factorial(b)//factorial(a-b))\n",
    "m"
   ]
  },
  {
   "cell_type": "code",
   "execution_count": 254,
   "metadata": {},
   "outputs": [],
   "source": [
    "# %%timeit\n",
    "\n",
    "def comb_m1(N, R, p):\n",
    "    mat = np.zeros((N+1, N+1), dtype=np.int32)\n",
    "    print(len(mat), len(mat[0]))\n",
    "    for n in range(N+1):\n",
    "        for r in range(n+1):\n",
    "            if r == 0 or r == n:\n",
    "                mat[n][r] = 1\n",
    "            else:\n",
    "                mat[n][r] = (mat[n-1][r-1] + mat[n-1][r])\n",
    "\n",
    "    return mat\n",
    "        \n",
    "# ans = comb_m1(n, r, p) \n",
    "# print(ans)\n",
    "# check(ans)"
   ]
  },
  {
   "cell_type": "code",
   "execution_count": 195,
   "metadata": {},
   "outputs": [
    {
     "data": {
      "text/plain": [
       "45274257328051640582702088538742081937252294837706668420660"
      ]
     },
     "execution_count": 195,
     "metadata": {},
     "output_type": "execute_result"
    }
   ],
   "source": [
    "factorial(n)//factorial(r)//factorial(n-r)"
   ]
  },
  {
   "cell_type": "code",
   "execution_count": 124,
   "metadata": {},
   "outputs": [
    {
     "name": "stdout",
     "output_type": "stream",
     "text": [
      "284 ms ± 6.64 ms per loop (mean ± std. dev. of 7 runs, 1 loop each)\n"
     ]
    }
   ],
   "source": [
    "%%timeit \n",
    "\n",
    "def binomialCoeff(n , k): \n",
    "  \n",
    "    # Declaring an empty array \n",
    "    C = [0 for i in range(k+1)] \n",
    "    C[0] = 1 #since nC0 is 1 \n",
    "  \n",
    "    for i in range(1,n+1): \n",
    "  \n",
    "        # Compute next row of pascal triangle using \n",
    "        # the previous row \n",
    "        j = min(i ,k) \n",
    "        while (j>0): \n",
    "            C[j] = C[j] + C[j-1] \n",
    "            j -= 1\n",
    "  \n",
    "    return C[k] \n",
    "  \n",
    "# Driver Program to test the above function \n",
    "binomialCoeff(n*10,r*10)%p\n"
   ]
  },
  {
   "cell_type": "code",
   "execution_count": null,
   "metadata": {},
   "outputs": [],
   "source": []
  }
 ],
 "metadata": {
  "kernelspec": {
   "display_name": "Python 3",
   "language": "python",
   "name": "python3"
  },
  "language_info": {
   "codemirror_mode": {
    "name": "ipython",
    "version": 3
   },
   "file_extension": ".py",
   "mimetype": "text/x-python",
   "name": "python",
   "nbconvert_exporter": "python",
   "pygments_lexer": "ipython3",
   "version": "3.7.3"
  }
 },
 "nbformat": 4,
 "nbformat_minor": 2
}
