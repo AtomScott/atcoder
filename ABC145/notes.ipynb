{
 "cells": [
  {
   "cell_type": "markdown",
   "metadata": {},
   "source": [
    "# D\n",
    "\n",
    "## Compute nCr % p"
   ]
  },
  {
   "cell_type": "code",
   "execution_count": 53,
   "metadata": {},
   "outputs": [],
   "source": [
    "from math import factorial\n",
    "from scipy.special import comb\n",
    "\n",
    "n = 199\n",
    "r = 100\n",
    "p = 1009\n",
    "\n",
    "def check(ans):\n",
    "    assert ans == 820, \"Wrong Answer\""
   ]
  },
  {
   "cell_type": "markdown",
   "metadata": {},
   "source": [
    "### Generic python methods"
   ]
  },
  {
   "cell_type": "code",
   "execution_count": 81,
   "metadata": {
    "scrolled": true
   },
   "outputs": [
    {
     "name": "stdout",
     "output_type": "stream",
     "text": [
      "27.2 µs ± 941 ns per loop (mean ± std. dev. of 7 runs, 10000 loops each)\n"
     ]
    }
   ],
   "source": [
    "%%timeit\n",
    "\n",
    "n_fact = 1\n",
    "for i in range(1, n+1):\n",
    "    n_fact *= i\n",
    "    \n",
    "r_fact = 1\n",
    "for i in range(1, r+1):\n",
    "    r_fact *= i\n",
    "\n",
    "nsubr_fact = 1\n",
    "for i in range(1, n-r+1):\n",
    "    nsubr_fact *= i\n",
    "    \n",
    "ans = n_fact//r_fact//nsubr_fact%p\n",
    "check(ans)"
   ]
  },
  {
   "cell_type": "code",
   "execution_count": 82,
   "metadata": {},
   "outputs": [
    {
     "name": "stdout",
     "output_type": "stream",
     "text": [
      "5.64 µs ± 86.8 ns per loop (mean ± std. dev. of 7 runs, 100000 loops each)\n"
     ]
    }
   ],
   "source": [
    "%%timeit\n",
    "\n",
    "ans = factorial(n)//factorial(r)//factorial(n-r)%p\n",
    "check(ans)"
   ]
  },
  {
   "cell_type": "code",
   "execution_count": 83,
   "metadata": {},
   "outputs": [
    {
     "name": "stdout",
     "output_type": "stream",
     "text": [
      "10.3 µs ± 218 ns per loop (mean ± std. dev. of 7 runs, 100000 loops each)\n"
     ]
    }
   ],
   "source": [
    "%%timeit\n",
    "\n",
    "ans = comb(n, r, exact=True)%p\n",
    "check(ans)"
   ]
  },
  {
   "cell_type": "markdown",
   "metadata": {},
   "source": [
    "However as the number we take the factorial of grows larger, a lot of memory and time is necessary."
   ]
  },
  {
   "cell_type": "code",
   "execution_count": 114,
   "metadata": {},
   "outputs": [
    {
     "name": "stdout",
     "output_type": "stream",
     "text": [
      "5.34 s ± 56.8 ms per loop (mean ± std. dev. of 7 runs, 1 loop each)\n"
     ]
    }
   ],
   "source": [
    "%timeit factorial(n*1000)//factorial(r*1000)//factorial(n*1000-r*1000)%(10**9+7)"
   ]
  },
  {
   "cell_type": "code",
   "execution_count": 112,
   "metadata": {
    "scrolled": true
   },
   "outputs": [
    {
     "data": {
      "text/plain": [
       "1309545"
      ]
     },
     "execution_count": 112,
     "metadata": {},
     "output_type": "execute_result"
    }
   ],
   "source": [
    "factorial(200000) % 1362657"
   ]
  },
  {
   "cell_type": "markdown",
   "metadata": {},
   "source": [
    "## Method 1 Pascals Triangle "
   ]
  },
  {
   "cell_type": "markdown",
   "metadata": {},
   "source": [
    "We can use the pascals triangle and the distributive law of % to introduce dynamic programming, but still DP doesnt really give us much of a speed up!!"
   ]
  },
  {
   "cell_type": "code",
   "execution_count": 318,
   "metadata": {},
   "outputs": [
    {
     "name": "stdout",
     "output_type": "stream",
     "text": [
      "5.32 ms ± 127 µs per loop (mean ± std. dev. of 7 runs, 100 loops each)\n"
     ]
    }
   ],
   "source": [
    "%%timeit \n",
    "\n",
    "def comb_m1(N, R, p):\n",
    "    mat = [[0]*(N+1) for _ in range(N+1)]\n",
    "    for n in range(N+1):\n",
    "        for r in range(n+1):\n",
    "            if r == 0 or r == n:\n",
    "                mat[n][r] = 1 % p\n",
    "            else:\n",
    "                mat[n][r] = ((mat[n-1][r-1] + mat[n-1][r])) % p\n",
    "\n",
    "    return mat[N][R] \n",
    "\n",
    "ans = comb_m1(n, r, p) \n",
    "check(ans)"
   ]
  },
  {
   "cell_type": "code",
   "execution_count": 319,
   "metadata": {},
   "outputs": [
    {
     "name": "stdout",
     "output_type": "stream",
     "text": [
      "2.66 ms ± 127 µs per loop (mean ± std. dev. of 7 runs, 100 loops each)\n"
     ]
    }
   ],
   "source": [
    "%%timeit\n",
    "\n",
    "# optmised verion\n",
    "def binomialCoeff(n,k,p): \n",
    "  \n",
    "    # Declaring an empty array \n",
    "    C = [0 for i in range(k+1)] \n",
    "    C[0] = 1 #since nC0 is 1 \n",
    "  \n",
    "    for i in range(1,n+1): \n",
    "  \n",
    "        # Compute next row of pascal triangle using \n",
    "        # the previous row \n",
    "        j = min(i ,k) \n",
    "        while (j>0): \n",
    "            C[j] = (C[j] + C[j-1]) % p\n",
    "            j -= 1\n",
    "  \n",
    "    return C[k] \n",
    "  \n",
    "# Driver Program to test the above function \n",
    "ans = binomialCoeff(n,r,p)\n",
    "check(ans)"
   ]
  },
  {
   "cell_type": "markdown",
   "metadata": {},
   "source": [
    "## Method 2 Lucas Theorem\n",
    "\n",
    "\\begin{align}\n",
    "\\binom{n}{r} = \\prod_{i=1}^{k} \\binom{n_i}{r_i}\\pmod{p}\n",
    "\\end{align}"
   ]
  },
  {
   "cell_type": "code",
   "execution_count": 329,
   "metadata": {},
   "outputs": [
    {
     "name": "stdout",
     "output_type": "stream",
     "text": [
      "2.53 ms ± 103 µs per loop (mean ± std. dev. of 7 runs, 100 loops each)\n"
     ]
    }
   ],
   "source": [
    "%%timeit\n",
    "\n",
    "def nCrModpDP(n, r, p): \n",
    "      \n",
    "    C = [0] * (n + 1); \n",
    "  \n",
    "    C[0] = 1;  \n",
    "  \n",
    "    for i in range(1, (n + 1)): \n",
    "        j = min(i, r);  \n",
    "        while(j > 0): \n",
    "            C[j] = (C[j] + C[j - 1]) % p; \n",
    "            j -= 1; \n",
    "    return C[r]; \n",
    "\n",
    "ans = nCrModpDP(n,r,p)\n",
    "check(ans)"
   ]
  },
  {
   "cell_type": "markdown",
   "metadata": {},
   "source": [
    "##  Fermats Little Theorem\n",
    "\n",
    "Fermat’s little theorem states that if p is a prime number, then for any integer a, the number ap – a is an integer multiple of p. In the notation of modular arithmetic, this is expressed as\n",
    "\n",
    "\\begin{align}\n",
    "a^p = a \\pmod{p}\n",
    "\\end{align}\n",
    "\n",
    "If a is not divisible by p, Fermat’s little theorem is equivalent to the statement a p – 1 – 1 is an integer multiple of p, i.e\n",
    "\n",
    "\\begin{align}\n",
    "a^{p-1} = 1 \\pmod{p}\n",
    "\\end{align}\n",
    "\n",
    "If we multiply both sides by a-1, we get.\n",
    "\\begin{align}\n",
    "a^{p-2} = a^{-1} \\pmod{p}\n",
    "\\end{align}\n",
    "\n",
    "\n",
    "The modular multiplicative inverse is an integer x such that\n",
    "\n",
    "\\begin{align}\n",
    "a x = 1 \\pmod{m}\n",
    "\\end{align}\n",
    "\n",
    "(put another way, the remainder after dividing ax by the integer m is 1).\n",
    "\n",
    "The multiplicative inverse of “a modulo m” exists if and only if a and m are relatively prime (i.e., if gcd(a, m) = 1), \n",
    "\n",
    "\n"
   ]
  },
  {
   "cell_type": "code",
   "execution_count": 338,
   "metadata": {},
   "outputs": [
    {
     "name": "stdout",
     "output_type": "stream",
     "text": [
      "14.7 ms ± 520 µs per loop (mean ± std. dev. of 7 runs, 100 loops each)\n"
     ]
    }
   ],
   "source": [
    "%%timeit\n",
    "\n",
    "def ncr(n, r, p): \n",
    "    num = den = 1 \n",
    "    for i in range(r): \n",
    "        num = (num * (n - i)) % p \n",
    "        den = (den * (i + 1)) % p \n",
    "    return (num * pow(den,  \n",
    "            p - 2, p)) % p \n",
    "  \n",
    "ans=ncr(n*100, r*1000, p)"
   ]
  },
  {
   "cell_type": "code",
   "execution_count": null,
   "metadata": {},
   "outputs": [],
   "source": []
  }
 ],
 "metadata": {
  "kernelspec": {
   "display_name": "Python 3",
   "language": "python",
   "name": "python3"
  },
  "language_info": {
   "codemirror_mode": {
    "name": "ipython",
    "version": 3
   },
   "file_extension": ".py",
   "mimetype": "text/x-python",
   "name": "python",
   "nbconvert_exporter": "python",
   "pygments_lexer": "ipython3",
   "version": "3.7.3"
  }
 },
 "nbformat": 4,
 "nbformat_minor": 2
}
